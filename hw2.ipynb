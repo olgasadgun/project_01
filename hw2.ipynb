{
  "nbformat": 4,
  "nbformat_minor": 0,
  "metadata": {
    "colab": {
      "provenance": [],
      "authorship_tag": "ABX9TyPn2eZxQxg5sbPJahonqpKi"
    },
    "kernelspec": {
      "name": "python3",
      "display_name": "Python 3"
    },
    "language_info": {
      "name": "python"
    }
  },
  "cells": [
    {
      "cell_type": "code",
      "execution_count": 12,
      "metadata": {
        "colab": {
          "base_uri": "https://localhost:8080/"
        },
        "id": "TsoxC_OFG43n",
        "outputId": "26574000-5f36-499c-ac20-2f8433ecf285"
      },
      "outputs": [
        {
          "output_type": "stream",
          "name": "stdout",
          "text": [
            "-7\n",
            "99\n"
          ]
        }
      ],
      "source": [
        "# Задача 2.1. \n",
        "\n",
        "# Создайте две функции maximum и minimum,\n",
        "# которые получают список целых чисел в качестве входных данных \n",
        "# и возвращают наибольшее и наименьшее число в этом списке соответственно.\n",
        "# Например,\n",
        "\n",
        "# [4,6,2,1,9,63,-134,566]       \n",
        "\n",
        "# [-52, 56, 30, 29, -54, 0, -110] -> min = -110, max = 56\n",
        "# [42, 54, 65, 87, 0]             -> min = 0, max = 87\n",
        "# [5]                             -> min = 5, max = 5\n",
        "# функции sorted, max и min использовать нельзя!\n",
        "\n",
        "# def minimum(arr):\n",
        "#     pass\n",
        "\n",
        "# def maximum(arr):\n",
        "#     pass\n",
        "\n",
        "list = [5,15,8,-7,12,99,47,65]\n",
        "\n",
        "def minimum(arr):\n",
        "    min_elem = arr[0]\n",
        "    for elem in arr:\n",
        "        if elem < min_elem:\n",
        "            min_elem = elem\n",
        "    return min_elem\n",
        "\n",
        "result = minimum(list)\n",
        "print(result)\n",
        "\n",
        "def maximum(arr):\n",
        "    max_elem = arr[0]\n",
        "    for elem in arr:\n",
        "        if elem > max_elem:\n",
        "            max_elem = elem\n",
        "    return max_elem\n",
        "\n",
        "result = maximum(list)\n",
        "print(result)"
      ]
    },
    {
      "cell_type": "code",
      "source": [
        "# Задача 2.3.\n",
        "\n",
        "# Напишите функцию, которая принимает цифры от 0 до 9 и возвращает значение прописью.\n",
        "# Например,\n",
        "# switch_it_up(1) -> 'One'\n",
        "# switch_it_up(3) -> 'Three'\n",
        "# switch_it_up(10000) -> None\n",
        "# Использовать условный оператор if-elif-else нельзя!\n",
        "\n",
        "# def switch_it_up(number):\n",
        "#     pass\n",
        "\n",
        "def switch_it_up(number):\n",
        "  num_dict = {\n",
        "        0: \"Zero\",\n",
        "        1: \"One\",\n",
        "        2: \"Two\",\n",
        "        3: \"Three\",\n",
        "        4: \"Four\",\n",
        "        5: \"Five\",\n",
        "        6: \"Six\",\n",
        "        7: \"Seven\",\n",
        "        8: \"Eight\",\n",
        "        9: \"Nine\"\n",
        "    }\n",
        "  return num_dict.get(number, None)\n",
        "print(switch_it_up(1))"
      ],
      "metadata": {
        "colab": {
          "base_uri": "https://localhost:8080/"
        },
        "id": "C9hkjx8qfLgV",
        "outputId": "5e7f1536-2563-43a0-c815-06fe4cf25673"
      },
      "execution_count": 95,
      "outputs": [
        {
          "output_type": "stream",
          "name": "stdout",
          "text": [
            "One\n"
          ]
        }
      ]
    },
    {
      "cell_type": "code",
      "source": [
        "# Задача 2.4.\n",
        "\n",
        "# Пункт A.\n",
        "# Напишите функцию, которая удаляет все восклицательные знаки из заданной строк.\n",
        "# Например,\n",
        "# foo(\"Hi! Hello!\") -> \"Hi Hello\"\n",
        "# foo(\"\") -> \"\"\n",
        "# foo(\"Oh, no!!!\") -> \"Oh, no\"\n",
        "\n",
        "def remove_exclamation_marks(s):\n",
        "  foo = \"Hi! Hello\"\n",
        "  return s.replace(\"!\", \"\")\n",
        "print(remove_exclamation_marks(foo))   \n",
        "\n",
        "# Пункт B.\n",
        "# Удалите восклицательный знак из конца строки. \n",
        "# remove(\"Hi!\") == \"Hi\"\n",
        "# remove(\"Hi!!!\") == \"Hi!!\"\n",
        "# remove(\"!Hi\") == \"!Hi\"\n",
        "\n",
        "meet = \"Hi!!!\"\n",
        "\n",
        "def remove_last_em(s):\n",
        "  if s[-1] == \"!\":\n",
        "    return s[:-1]\n",
        "  else:\n",
        "    return s\n",
        "print(remove_last_em(meet))"
      ],
      "metadata": {
        "colab": {
          "base_uri": "https://localhost:8080/"
        },
        "id": "jfqGilTJ5hX9",
        "outputId": "02cb2d09-b75b-4892-bab2-9a3c20ea6ea2"
      },
      "execution_count": 130,
      "outputs": [
        {
          "output_type": "stream",
          "name": "stdout",
          "text": [
            "Hi Hello\n",
            "Hi!!\n"
          ]
        }
      ]
    }
  ]
}