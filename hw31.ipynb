{
  "cells": [
    {
      "cell_type": "code",
      "execution_count": 24,
      "metadata": {
        "colab": {
          "base_uri": "https://localhost:8080/"
        },
        "id": "de5XUCnbkIIa",
        "outputId": "521a0cde-e427-4f03-ef7a-75dc78d7eac6"
      },
      "outputs": [
        {
          "output_type": "stream",
          "name": "stdout",
          "text": [
            "6 5 8 2 5 0 8 6 2 1 \n",
            "9 1 7 9 9 0 8 9 6 3 \n",
            "9 5 6 8 5 0 1 0 8 4 \n",
            "5 6 1 0 2 0 5 1 4 5 \n",
            "8 8 5 6 4 0 6 6 0 4 \n",
            "7 7 0 3 9 8 5 9 5 3 \n",
            "3 3 8 9 6 1 8 6 6 8 \n",
            "5 7 3 7 0 8 0 6 4 0 \n",
            "9 3 1 4 1 2 1 2 6 6 \n",
            "0 3 3 4 8 9 7 1 8 5 \n"
          ]
        }
      ],
      "source": [
        "# Задача 3.1.\n",
        "# Создайте класс матрицы (или таблицы).\n",
        "# Требования к классу:\n",
        "#   - каждая колонка является числом от 1 до n (n любое число, которые вы поставите!)\n",
        "#   - в каждой ячейке содержится либо число, либо None\n",
        "#   - доступы следующие методы матрицы:\n",
        "#       * принимать новые значения, \n",
        "#       * заменять существующие значения, \n",
        "#       * выводить число строк и колонок.\n",
        "\n",
        "# Пример матрицы 10 на 10 из единиц:\n",
        "# [[1, 1, 1, 1, 1, 1, 1, 1, 1, 1],\n",
        "#  [1, 1, 1, 1, 1, 1, 1, 1, 1, 1],\n",
        "#  [1, 1, 1, 1, 1, 1, 1, 1, 1, 1],\n",
        "#  [1, 1, 1, 1, 1, 1, 1, 1, 1, 1],\n",
        "#  [1, 1, 1, 1, 1, 1, 1, 1, 1, 1],\n",
        "#  [1, 1, 1, 1, 1, 1, 1, 1, 1, 1],\n",
        "#  [1, 1, 1, 1, 1, 1, 1, 1, 1, 1],\n",
        "#  [1, 1, 1, 1, 1, 1, 1, 1, 1, 1],\n",
        "#  [1, 1, 1, 1, 1, 1, 1, 1, 1, 1],\n",
        "#  [1, 1, 1, 1, 1, 1, 1, 1, 1, 1]]\n",
        "\n",
        "# Примечание! \n",
        "#   - новый класс не запрещено строить на базе существующих типов данных: списков, словарей и тд.\n",
        "#   - отображать в таблице/матрице название колонки не обязательно!\n",
        "#   - использовать готовые классы numpy.array() и pandas.DataFrame() запрещено!\n",
        "#   - проявите фантазию :)\n",
        "\n",
        "import random\n",
        " \n",
        "class Matrix:\n",
        "  def create_matrix():\n",
        "    n = 10\n",
        "    matr = [[random.randint(0, 9) for i in range(n)] for j in range(n)]\n",
        "    return matr\n",
        " \n",
        " \n",
        "  def show_matrix(matrix):\n",
        "    for i in matrix:\n",
        "        for j in i:\n",
        "            print(j, end=' ')\n",
        "        print()\n",
        " \n",
        "  my_matrix = create_matrix()\n",
        "  show_matrix(my_matrix)"
      ]
    }
  ],
  "metadata": {
    "colab": {
      "provenance": [],
      "toc_visible": true,
      "authorship_tag": "ABX9TyPcHoNQB0ebWgW1GHyAHfTn"
    },
    "kernelspec": {
      "display_name": "Python 3",
      "name": "python3"
    },
    "language_info": {
      "name": "python"
    }
  },
  "nbformat": 4,
  "nbformat_minor": 0
}